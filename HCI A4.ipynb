{
 "cells": [
  {
   "cell_type": "markdown",
   "metadata": {},
   "source": [
    "# Processing crime data"
   ]
  },
  {
   "cell_type": "code",
   "execution_count": 1,
   "metadata": {
    "collapsed": false
   },
   "outputs": [],
   "source": [
    "import csv\n",
    "import numpy as np\n",
    "\n",
    "INPUT = \"./NYPD_7_Major_Felony_Incidents.csv\"\n",
    "\n",
    "data = []\n",
    "\n",
    "with open(INPUT, 'rb') as csvfile:\n",
    "    reader = csv.reader(csvfile)\n",
    "    for row in reader:\n",
    "        data.append(row)\n",
    "        \n",
    "    data = np.array(data)\n"
   ]
  },
  {
   "cell_type": "code",
   "execution_count": 14,
   "metadata": {
    "collapsed": false
   },
   "outputs": [],
   "source": [
    "#murder, rape, robbery, felony assault, burglary, grand larceny, grand larceny of motor vehicle\n",
    "#http://scholarlycommons.law.northwestern.edu/cgi/viewcontent.cgi?article=2798&context=jclc\n",
    "#http://www.statcan.gc.ca/pub/85-004-x/2009001/t001-eng.htm\n",
    "for row in data:\n",
    "    if row[11] == \"MURDER\":\n",
    "        row[11] = 5.24\n",
    "    elif row[11] == \"RAPE\":\n",
    "        row[11] = 3.63\n",
    "    elif row[11] == \"ROBBERY\":\n",
    "        row[11] = 3.45\n",
    "    elif row[11] == \"FELONY ASSAULT\":\n",
    "        row[11] = 3.28\n",
    "    elif row[11] == \"BURGLARY\":\n",
    "        row[11] = 3.46\n",
    "    elif row[11] == \"GRAND LARCENY\":\n",
    "        row[11] = 2.95\n",
    "    elif row[11] == \"GRAND LARCENY OF MOTOR VEHICLE\":\n",
    "        row[11] = 1.98\n",
    "    "
   ]
  },
  {
   "cell_type": "code",
   "execution_count": 22,
   "metadata": {
    "collapsed": false
   },
   "outputs": [
    {
     "name": "stdout",
     "output_type": "stream",
     "text": [
      "['(40.8208008500001', ' -73.956703266)']\n"
     ]
    }
   ],
   "source": [
    "print data[2][19].split(\",\")"
   ]
  },
  {
   "cell_type": "code",
   "execution_count": 3,
   "metadata": {
    "collapsed": false
   },
   "outputs": [],
   "source": [
    "OUTPUT = \"./crime.csv\"\n",
    "with open(OUTPUT, 'wb') as csvfile:\n",
    "    writer = csv.writer(csvfile)\n",
    "    writer.writerows(data)"
   ]
  },
  {
   "cell_type": "markdown",
   "metadata": {},
   "source": [
    "# Processing Uber Data"
   ]
  },
  {
   "cell_type": "code",
   "execution_count": 3,
   "metadata": {
    "collapsed": false
   },
   "outputs": [],
   "source": [
    "UBER1 = \"./uber-raw-data-apr14.csv\"\n",
    "UBER2 = \"./uber-raw-data-may14.csv\"\n",
    "UBER3 = \"./uber-raw-data-jun14.csv\"\n",
    "UBER4= \"./uber-raw-data-jul14.csv\"\n",
    "UBER5 = \"./uber-raw-data-aug14.csv\"\n",
    "UBER6 = \"./uber-raw-data-sep14.csv\"\n",
    "\n",
    "uber1 = []\n",
    "uber2 = []\n",
    "uber3 = []\n",
    "uber4 = []\n",
    "uber5 = []\n",
    "uber6 = []\n",
    "\n",
    "with open(UBER1, 'rb') as csvfile:\n",
    "    reader = csv.reader(csvfile)\n",
    "    for row in reader:\n",
    "        row.append(1)\n",
    "        uber1.append(row)\n",
    "        \n",
    "    uber1= np.array(uber1)\n",
    "    uber1[0][4] = \"Occurence\"\n",
    "    \n",
    "with open(UBER2, 'rb') as csvfile:\n",
    "    reader = csv.reader(csvfile)\n",
    "    for row in reader:\n",
    "        row.append(1)\n",
    "        uber2.append(row)\n",
    "        \n",
    "    uber2= np.array(uber2)\n",
    "    uber2[0][4] = \"Occurence\"\n",
    "    \n",
    "with open(UBER3, 'rb') as csvfile:\n",
    "    reader = csv.reader(csvfile)\n",
    "    for row in reader:\n",
    "        row.append(1)\n",
    "        uber3.append(row)\n",
    "        \n",
    "    uber3= np.array(uber3)\n",
    "    uber3[0][4] = \"Occurence\"\n",
    "    \n",
    "with open(UBER4, 'rb') as csvfile:\n",
    "    reader = csv.reader(csvfile)\n",
    "    for row in reader:\n",
    "        row.append(1)\n",
    "        uber4.append(row)\n",
    "        \n",
    "    uber4= np.array(uber4)\n",
    "    uber4[0][4] = \"Occurence\"\n",
    "\n",
    "    \n",
    "with open(UBER5, 'rb') as csvfile:\n",
    "    reader = csv.reader(csvfile)\n",
    "    for row in reader:\n",
    "        row.append(1)\n",
    "        uber5.append(row)\n",
    "        \n",
    "    uber5= np.array(uber5)\n",
    "    uber5[0][4] = \"Occurence\"\n",
    "\n",
    "    \n",
    "with open(UBER6, 'rb') as csvfile:\n",
    "    reader = csv.reader(csvfile)\n",
    "    for row in reader:\n",
    "        row.append(1)\n",
    "        uber6.append(row)\n",
    "        \n",
    "    uber6= np.array(uber6)\n",
    "    uber6[0][4] = \"Occurence\"\n"
   ]
  },
  {
   "cell_type": "code",
   "execution_count": 4,
   "metadata": {
    "collapsed": true
   },
   "outputs": [],
   "source": [
    "OUTPUT1 = \"./uber1.csv\"\n",
    "with open(OUTPUT1, 'wb') as csvfile:\n",
    "    writer = csv.writer(csvfile)\n",
    "    writer.writerows(uber1)\n",
    "    \n",
    "OUTPUT2 = \"./uber2.csv\"\n",
    "with open(OUTPUT2, 'wb') as csvfile:\n",
    "    writer = csv.writer(csvfile)\n",
    "    writer.writerows(uber2)\n",
    "    \n",
    "OUTPUT3 = \"./uber3.csv\"\n",
    "with open(OUTPUT3, 'wb') as csvfile:\n",
    "    writer = csv.writer(csvfile)\n",
    "    writer.writerows(uber3)\n",
    "    \n",
    "OUTPUT4 = \"./uber4.csv\"\n",
    "with open(OUTPUT4, 'wb') as csvfile:\n",
    "    writer = csv.writer(csvfile)\n",
    "    writer.writerows(uber4)\n",
    "    \n",
    "OUTPUT5 = \"./uber5.csv\"\n",
    "with open(OUTPUT5, 'wb') as csvfile:\n",
    "    writer = csv.writer(csvfile)\n",
    "    writer.writerows(uber5)\n",
    "    \n",
    "OUTPUT6 = \"./uber6.csv\"\n",
    "with open(OUTPUT6, 'wb') as csvfile:\n",
    "    writer = csv.writer(csvfile)\n",
    "    writer.writerows(uber6)"
   ]
  },
  {
   "cell_type": "markdown",
   "metadata": {},
   "source": [
    "# Merging Uber Data (Not Used)"
   ]
  },
  {
   "cell_type": "code",
   "execution_count": 6,
   "metadata": {
    "collapsed": false
   },
   "outputs": [],
   "source": [
    "UBER1 = \"./uber-raw-data-apr14.csv\"\n",
    "UBER2 = \"./uber-raw-data-may14.csv\"\n",
    "UBER3 = \"./uber-raw-data-jun14.csv\"\n",
    "UBER4= \"./uber-raw-data-jul14.csv\"\n",
    "UBER5 = \"./uber-raw-data-aug14.csv\"\n",
    "UBER6 = \"./uber-raw-data-sep14.csv\"\n",
    "\n",
    "uber1 = []\n",
    "uber2 = []\n",
    "uber3 = []\n",
    "uber4 = []\n",
    "uber5 = []\n",
    "uber6 = []\n",
    "\n",
    "with open(UBER1, 'rb') as csvfile:\n",
    "    reader = csv.reader(csvfile)\n",
    "    for row in reader:\n",
    "        uber1.append(row)\n",
    "        \n",
    "    uber1= np.array(uber1)\n",
    "    \n",
    "with open(UBER2, 'rb') as csvfile:\n",
    "    reader = csv.reader(csvfile)\n",
    "    for row in reader:\n",
    "        uber2.append(row)\n",
    "        \n",
    "    uber2= np.array(uber1)\n",
    "    np.delete(uber2, 0, 0)\n",
    "    \n",
    "with open(UBER3, 'rb') as csvfile:\n",
    "    reader = csv.reader(csvfile)\n",
    "    for row in reader:\n",
    "        uber3.append(row)\n",
    "        \n",
    "    uber3= np.array(uber1)\n",
    "    np.delete(uber3, 0, 0)\n",
    "    \n",
    "with open(UBER4, 'rb') as csvfile:\n",
    "    reader = csv.reader(csvfile)\n",
    "    for row in reader:\n",
    "        uber4.append(row)\n",
    "        \n",
    "    uber4= np.array(uber1)\n",
    "    np.delete(uber4, 0, 0)\n",
    "\n",
    "    \n",
    "with open(UBER5, 'rb') as csvfile:\n",
    "    reader = csv.reader(csvfile)\n",
    "    for row in reader:\n",
    "        uber5.append(row)\n",
    "        \n",
    "    uber5= np.array(uber1)\n",
    "    np.delete(uber5, 0, 0)\n",
    "\n",
    "    \n",
    "with open(UBER6, 'rb') as csvfile:\n",
    "    reader = csv.reader(csvfile)\n",
    "    for row in reader:\n",
    "        uber6.append(row)\n",
    "        \n",
    "    uber6= np.array(uber1)\n",
    "    np.delete(uber6, 0, 0)\n"
   ]
  },
  {
   "cell_type": "code",
   "execution_count": 7,
   "metadata": {
    "collapsed": true
   },
   "outputs": [],
   "source": [
    "finalUber = np.concatenate((uber1,uber2), axis = 0)\n",
    "finalUber = np.concatenate((finalUber,uber3), axis = 0)\n",
    "finalUber = np.concatenate((finalUber,uber4), axis = 0)\n",
    "finalUber = np.concatenate((finalUber,uber5), axis = 0)\n",
    "finalUber = np.concatenate((finalUber,uber6), axis = 0)"
   ]
  },
  {
   "cell_type": "code",
   "execution_count": 8,
   "metadata": {
    "collapsed": false
   },
   "outputs": [
    {
     "name": "stdout",
     "output_type": "stream",
     "text": [
      "3387102\n"
     ]
    }
   ],
   "source": [
    "print len(finalUber)"
   ]
  },
  {
   "cell_type": "code",
   "execution_count": 10,
   "metadata": {
    "collapsed": false
   },
   "outputs": [
    {
     "name": "stdout",
     "output_type": "stream",
     "text": [
      "3387102\n"
     ]
    }
   ],
   "source": [
    "print len(uber1)+len(uber2)+len(uber3)+len(uber4)+len(uber5)+len(uber6)"
   ]
  },
  {
   "cell_type": "code",
   "execution_count": 24,
   "metadata": {
    "collapsed": true
   },
   "outputs": [],
   "source": [
    "UBEROUTPUT = \"./finalUber.csv\"\n",
    "with open(UBEROUTPUT, 'wb') as csvfile:\n",
    "    writer = csv.writer(csvfile)\n",
    "    writer.writerows(finalUber)"
   ]
  }
 ],
 "metadata": {
  "kernelspec": {
   "display_name": "Python 2",
   "language": "python",
   "name": "python2"
  },
  "language_info": {
   "codemirror_mode": {
    "name": "ipython",
    "version": 2
   },
   "file_extension": ".py",
   "mimetype": "text/x-python",
   "name": "python",
   "nbconvert_exporter": "python",
   "pygments_lexer": "ipython2",
   "version": "2.7.11"
  }
 },
 "nbformat": 4,
 "nbformat_minor": 0
}
